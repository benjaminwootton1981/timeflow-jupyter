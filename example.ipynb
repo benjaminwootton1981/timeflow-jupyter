from pydruid.client import *
from pylab import plt
from pydruid.utils.aggregators import longsum, doublesum

query = PyDruid("http://52.19.224.166:8888", 'druid/v2')

top = query.topn(
    datasource='5_5_Flight',
    granularity='second',
    intervals='2020-06-01/2020-06-30',  # utc time of 2014 oscars
    dimension='Flight Number',
    metric='count',
    threshold=10,
    aggregations={'count': doublesum('count')},

)

df = query.export_pandas()
print(df)
